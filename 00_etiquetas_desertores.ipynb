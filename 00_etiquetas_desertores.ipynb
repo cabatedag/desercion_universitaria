{
  "nbformat": 4,
  "nbformat_minor": 0,
  "metadata": {
    "colab": {
      "provenance": []
    },
    "kernelspec": {
      "name": "python3",
      "display_name": "Python 3"
    },
    "language_info": {
      "name": "python"
    }
  },
  "cells": [
    {
      "cell_type": "markdown",
      "metadata": {
        "id": "E5W-65MskuXx"
      },
      "source": [
        "# **Este *ipynb* está enmarcado dentro de un trabajo que busca predecir qué alumnos del departamento de Sistemas la UTN FRBA desertarán.**\n",
        "\n",
        "Los datos disponibles se presentan en tres archivos separados.\n",
        "\n",
        "Los registros de estas tres tablas se encuentran relacionados a través de un ID anonimizado que corresponde a un estudiante en particular. \n",
        "\n",
        "En este **ipynb** se incorpora la feature a predecir '**deserto**' y se define el valor que toma esta para los datos disponibles.\n"
      ]
    },
    {
      "cell_type": "markdown",
      "source": [
        "## **Aclaraciones**\n",
        "\n",
        "Aquellas líneas de código identificadas con **\" # \"** fueron extraídas de la siguente fuente:\n",
        "* https://github.com/sebajarem/Analisis_desercion_en_ingenieria/blob/master/desercion/munge/00_datos_01/Desertores%20corregidos.ipynb\n",
        "\n",
        "Aquellas líneas de código identificadas con **\" ## \"** son de elaboración propia.\n",
        "\n",
        "---"
      ],
      "metadata": {
        "id": "mlxqqiu2xo7G"
      }
    },
    {
      "cell_type": "markdown",
      "source": [
        "## **Definiciones**"
      ],
      "metadata": {
        "id": "IxPduAVuWpRJ"
      }
    },
    {
      "cell_type": "markdown",
      "metadata": {
        "id": "4bBx6qjBUKGr"
      },
      "source": [
        "* **Actividad​**: Se considera que un estudiante tiene ​actividad en un año determinado si: tiene alguna materia con el campo “Tipo de aprobación” distinto de “libre” **ó** si rindió algún final de esa u otra materia. \n",
        " *Notar que ​actividad es una característica siempre asociada a un año determinado ​XX​.*\n",
        "---\n",
        "* (ALF) **Año Lectivo Final**​: Año que se toma como punto de partida para analizar HACIA ATRÁS las historias disponibles hasta 2008. En nuestro caso, por ahora, **ALF = 2016**. \n",
        "---\n",
        "* (ALI) **Año Lectivo Inicial**: Año a partir de que contamos con datos. En nuestro caso, por ahora; **ALI = 2008**. \n",
        "---\n",
        "* (AUA) **Año de Última Actividad​**: Último año en que el estudiante haya tenido alguna actividad​. \n",
        "---\n",
        "* (AI) **Año de Ingreso**​: Año en el que el estudiante haya realizado su primera actividad.\n",
        "---\n",
        "* **Alumno ​activo a la fecha ​XX**​: Se considera que un estudiante está “activo a la fecha ​XX​” si en el año ​XX ​registró ​actividad​.  \n",
        "---\n",
        "* (AE) **Año de egreso**​: Año en que aprobó “Proyecto Final”.  \n",
        "---\n",
        "* **Condición de Egresado​**: La condición de ​egresado se puede asignar a un alumno en el año de egreso o posteriores. *Ver que se necesita indicar un año para ver si pertenece a esa categoría.* \n",
        "---\n",
        "* **Condición de Desertor**​: Se considera que un alumno es desertor para el año ​XX si **no** registra actividad ni en el año ​XX ni en el año ​XX - 1​. *Ver que se necesita indicar un año para ver si pertenece a esa categoría.*\n",
        "---"
      ]
    },
    {
      "cell_type": "markdown",
      "metadata": {
        "id": "hWk9Vqs8l5jg"
      },
      "source": [
        "## **Importación de librerías**\n",
        "\n",
        "\n",
        "\n"
      ]
    },
    {
      "cell_type": "code",
      "execution_count": null,
      "metadata": {
        "id": "fIlK3hjIPJTY"
      },
      "outputs": [],
      "source": [
        "## Importamos librerías para manipulación de datos.\n",
        "import pandas as pd\n",
        "import numpy as np"
      ]
    },
    {
      "cell_type": "markdown",
      "source": [
        "## **Defino años para el análisis**"
      ],
      "metadata": {
        "id": "Brb_-2FnHYbg"
      }
    },
    {
      "cell_type": "code",
      "source": [
        "ALF = 2016 ## Año lectivo final\n",
        "ALI = 2008 ## Año lectivo inicial\n",
        "\n",
        "#Seteo el ano sobre el que voy a medir\n",
        "ano = 2017"
      ],
      "metadata": {
        "id": "cuqW2QEUPaZM"
      },
      "execution_count": null,
      "outputs": []
    },
    {
      "cell_type": "markdown",
      "source": [
        "## **Google Colaboratory o Local**\n",
        "El notebook podrá ser corrido tanto localmente como en Google Colaboratory.\n",
        "\n",
        "El usuario deberá modificar el root path de acuerdo a su conveniencia.\n"
      ],
      "metadata": {
        "id": "3SbYS6Q7qn4-"
      }
    },
    {
      "cell_type": "code",
      "source": [
        "## Verificamos si estamos corriendo el noteboock en Google Colaboratory.\n",
        "var_google_colab = 'google.colab' in str(get_ipython())\n",
        "print(var_google_colab)\n",
        "\n",
        "## En el caso de estar en Google Colab, montamos nuestro Drive.\n",
        "if var_google_colab:\n",
        "  from google.colab import drive\n",
        "  drive.mount('/content/gdrive',force_remount=True)\n",
        "  ## Direccion root donde está el notebook.\n",
        "  root_path = \"/content/gdrive/MyDrive/Colab Notebooks/GIAR/\"\n",
        "\n",
        "## En el caso de no estar en Google Colab, estamos corriendo localmente el notebook.\n",
        "else:\n",
        "  root_path = \"\""
      ],
      "metadata": {
        "colab": {
          "base_uri": "https://localhost:8080/"
        },
        "id": "yU--Wh5oxwvf",
        "outputId": "83f5a9c7-d1a3-4760-8493-051f7a3eff97"
      },
      "execution_count": null,
      "outputs": [
        {
          "output_type": "stream",
          "name": "stdout",
          "text": [
            "True\n",
            "Mounted at /content/gdrive\n"
          ]
        }
      ]
    },
    {
      "cell_type": "markdown",
      "source": [
        "## **Datasets**"
      ],
      "metadata": {
        "id": "mWlkuLcPWhO6"
      }
    },
    {
      "cell_type": "code",
      "source": [
        "## Importamos el dataset Datos-Alumnos-SIGA.\n",
        "alumnos = pd.read_csv(root_path + 'datos/Datos-Alumnos-SIGA.csv')\n",
        "\n",
        "#Agrego la columna de desertor\n",
        "alumnos['deserto']=0"
      ],
      "metadata": {
        "id": "Dn5x7Otnx2qd"
      },
      "execution_count": null,
      "outputs": []
    },
    {
      "cell_type": "code",
      "source": [
        "## Importamos el dataset Cursadas-Alumnos-SIGA.\n",
        "cursadas = pd.read_csv(root_path + 'datos/Cursadas-Alumnos-SIGA.csv')"
      ],
      "metadata": {
        "id": "qJfIS2TB7O88"
      },
      "execution_count": null,
      "outputs": []
    },
    {
      "cell_type": "code",
      "source": [
        "## Importamos el dataset Finales-Alumnos-SIGA.\n",
        "finales = pd.read_csv(root_path + 'datos/Finales-Alumnos-SIGA.csv')"
      ],
      "metadata": {
        "id": "3VL7S8zL7Qjr"
      },
      "execution_count": null,
      "outputs": []
    },
    {
      "cell_type": "markdown",
      "source": [
        "##**DEFINO EL VALOR DE LAS ETIQUETAS PARA CADA REGISTRO**#\n",
        "### 0 = No desertó\n",
        "### 1 = Desertó"
      ],
      "metadata": {
        "id": "V72Lya6y-itj"
      }
    },
    {
      "cell_type": "markdown",
      "metadata": {
        "id": "8NO6IkfTUKG_"
      },
      "source": [
        "Seleccionamos los alumnos que egresaron, indicando el año en que lo hiciceron.\n",
        "* (**AE**) **Año de egreso​**: Año en que aprobó “Proyecto Final”."
      ]
    },
    {
      "cell_type": "code",
      "source": [
        "# Genero un listado con los alumnos que egresaron y el año en el que lo hicieron (AE).\n",
        "ano_egreso = finales[(finales['Materia'] == 'Proyecto Final') & (finales['Aprobado'] == 1)][['Codigo Alumno','Año']].reset_index()"
      ],
      "metadata": {
        "id": "oPsRnwLZP0xv"
      },
      "execution_count": null,
      "outputs": []
    },
    {
      "cell_type": "markdown",
      "metadata": {
        "id": "S0mA2GJVUKHC"
      },
      "source": [
        "Si egresó se lo categoriza como **“noDesertor”** con las características calculadas \n",
        "**hasta AUA-2** (en este caso el AUA coincide con AE) (siempre que **ALI < AUA-2**).\n",
        "\n",
        "Se pasa al siguiente individuo (vuelve al paso 1 para el individuo siguiente). "
      ]
    },
    {
      "cell_type": "code",
      "source": [
        "# Genero una lista de los alumnos que egresaron en un periodo anterior a la fecha de chequeo\n",
        "alumnos_egreso = ano_egreso[ano_egreso['Año'] <= (ALF)]['Codigo Alumno']\n",
        "\n",
        "  ## NO se tendrán en cuenta a aquellos que hayan egresado despues de 2016. La base de datos tiene info \n",
        "  ## de solo hasta 2016, por ende, los datos que hacen referencia a años posteriores han de ser ERRÓNEOS."
      ],
      "metadata": {
        "id": "6fd03-3IQXrH"
      },
      "execution_count": null,
      "outputs": []
    },
    {
      "cell_type": "code",
      "source": [
        "##\n",
        "alumnos_egreso.shape"
      ],
      "metadata": {
        "colab": {
          "base_uri": "https://localhost:8080/"
        },
        "id": "h6ceYqd8QgVI",
        "outputId": "2a2fb212-bf05-4bde-9728-675cb9abfbbe"
      },
      "execution_count": null,
      "outputs": [
        {
          "output_type": "execute_result",
          "data": {
            "text/plain": [
              "(344,)"
            ]
          },
          "metadata": {},
          "execution_count": 9
        }
      ]
    },
    {
      "cell_type": "markdown",
      "metadata": {
        "id": "H_zkjo7LUKHF"
      },
      "source": [
        "Busco todos los alumnos y la **maxima fecha de final** entre los que **NO** estan entre los egresados.\n",
        "\n",
        "A todos aquellos que cumplan con la condición \"*Si no egresó y AUA < (ALF-1)*\", se los categoriza como **“desertor”** con las características calculadas **hasta AUA inclusive**.\n",
        "\n",
        "Se pasa al siguiente individuo, va al \n",
        "paso 1."
      ]
    },
    {
      "cell_type": "code",
      "source": [
        "# Filtro los alumnos de acuerdo al ultimo ano que rindieron finales\n",
        "alumno_finales_ult=finales[finales['Año']<=(ALF)].groupby('Codigo Alumno', as_index = False)['Año'].max()\n",
        "# Genero una lista con los alumnos cuyo ÚLTIMO FINAL fue antes el ciclo lectivo ALF-1 (antes de 2015) y NO egresaron.\n",
        "alumnos_rindieron_finales=alumno_finales_ult[(alumno_finales_ult['Año']<(ALF-1)) & (~alumno_finales_ult['Codigo Alumno'].isin(alumnos_egreso))]['Codigo Alumno']"
      ],
      "metadata": {
        "id": "V0fvVRIWQgr8"
      },
      "execution_count": null,
      "outputs": []
    },
    {
      "cell_type": "markdown",
      "metadata": {
        "id": "58A8aJRKUKHK"
      },
      "source": [
        "Llegado este punto, para aquellos alumnos que hayan quedado **SIN ETIQUETAR** sólo puede darse la situación de que su última actividad esté dentro de los últimos dos años, ALF y ALF-1. \n",
        "\n",
        "Hay dos alternativas para estos casos: \n",
        "\n",
        "**Alternativa 1**\n",
        "\n",
        "Si AI > (ALF-2) se lo descarta y se pasa al siguiente individuo, paso 1;\n",
        "\n",
        "(no podemos asegurar el resultado) (esto en rigor es parte del \n",
        "preprocesamiento y limpieza inicial) \n",
        "\n",
        "Sino se lo categoriza como “noDesertor” con las características \n",
        "calculadas hasta (ALF-2).\n",
        "\n",
        "**Alternativa 2** \n",
        "\n",
        "Se lo descarta y se pasa al siguiente individuo, paso 1.\n",
        "\n",
        "*(habrá que ver cuántos son para considerar descartarlos o no. Lo que sea más facil)*\n"
      ]
    },
    {
      "cell_type": "code",
      "source": [
        "# Filtro los alumnos de acuerdo al ÚLTIMO año en el que cursaron una materia.\n",
        "alumno_cursadas_ult=cursadas[cursadas['Ciclo Lectivo de Cursada']<=(ALF)].groupby('Codigo Alumno' ,as_index = False)['Ciclo Lectivo de Cursada'].max().reset_index()"
      ],
      "metadata": {
        "id": "DHBHhK6qQoXj"
      },
      "execution_count": null,
      "outputs": []
    },
    {
      "cell_type": "code",
      "source": [
        "# Genero una lista con los alumnos cuya ÚLTIMA CURSADA fue antes el ciclo lectivo ALF-1 (antes de 2015) y NO egresaron.\n",
        "alumnos_cursaron=alumno_cursadas_ult[(alumno_cursadas_ult['Ciclo Lectivo de Cursada']<(ALF-1)) & (~alumno_cursadas_ult['Codigo Alumno'].isin(alumnos_egreso))]['Codigo Alumno']"
      ],
      "metadata": {
        "id": "OpAXGX66QoGW"
      },
      "execution_count": null,
      "outputs": []
    },
    {
      "cell_type": "code",
      "source": [
        "alumnos_cursaron"
      ],
      "metadata": {
        "colab": {
          "base_uri": "https://localhost:8080/"
        },
        "id": "8VYVbEbQQxhI",
        "outputId": "4c7f3d05-3623-4799-c751-b975f60753e8"
      },
      "execution_count": null,
      "outputs": [
        {
          "output_type": "execute_result",
          "data": {
            "text/plain": [
              "32        204220\n",
              "34        459546\n",
              "36        785181\n",
              "37        806880\n",
              "38        865092\n",
              "          ...   \n",
              "6252    10002066\n",
              "6259    10002558\n",
              "6268    10003340\n",
              "6277    10003368\n",
              "6282    10003384\n",
              "Name: Codigo Alumno, Length: 2655, dtype: int64"
            ]
          },
          "metadata": {},
          "execution_count": 13
        }
      ]
    },
    {
      "cell_type": "markdown",
      "source": [
        "##**⁉⁉⁉⁉⁉**\n",
        "DUDA: NO SERÍA MÁS PRECISO QUE SE LOS CATEGORICE COMO DESERTORES SI SU ULTIMA CURSADA **Y** FINAL FUESEN ANTES DE **ALF-1**.\n",
        "\n",
        "OSEA AQUELLOS QUE ESTEN TANTO EN alumnos_cursaron COMO EN alumnos_rindieron_finales\n",
        "\n",
        "??????????????????????????????????????????\n",
        "\n",
        "Un && en lugar de un ||:"
      ],
      "metadata": {
        "id": "UR-ucaIIQAEq"
      }
    },
    {
      "cell_type": "code",
      "source": [
        "# \n",
        "alumnos_desertores=pd.concat([alumnos_cursaron,alumnos_rindieron_finales])"
      ],
      "metadata": {
        "id": "0f16LTl3Q61_"
      },
      "execution_count": null,
      "outputs": []
    },
    {
      "cell_type": "code",
      "source": [
        "# Defino el valor de las etiquetas.\n",
        "alumnos['deserto'][alumnos['Codigo Alumno'].isin(alumnos_desertores)]=1"
      ],
      "metadata": {
        "colab": {
          "base_uri": "https://localhost:8080/"
        },
        "id": "m2YAJBLIRM84",
        "outputId": "6faccfa1-df0a-4026-c4f8-90d61bf859ea"
      },
      "execution_count": null,
      "outputs": [
        {
          "output_type": "stream",
          "name": "stderr",
          "text": [
            "<ipython-input-15-ad2c0daf518d>:2: SettingWithCopyWarning: \n",
            "A value is trying to be set on a copy of a slice from a DataFrame\n",
            "\n",
            "See the caveats in the documentation: https://pandas.pydata.org/pandas-docs/stable/user_guide/indexing.html#returning-a-view-versus-a-copy\n",
            "  alumnos['deserto'][alumnos['Codigo Alumno'].isin(alumnos_desertores)]=1\n"
          ]
        }
      ]
    },
    {
      "cell_type": "code",
      "source": [
        "#\n",
        "alumnos.deserto.value_counts()"
      ],
      "metadata": {
        "colab": {
          "base_uri": "https://localhost:8080/"
        },
        "id": "UvacoI9xRU5p",
        "outputId": "07ef9455-bb48-4738-b4d3-ea0b1398a552"
      },
      "execution_count": null,
      "outputs": [
        {
          "output_type": "execute_result",
          "data": {
            "text/plain": [
              "0    5266\n",
              "1    3069\n",
              "Name: deserto, dtype: int64"
            ]
          },
          "metadata": {},
          "execution_count": 16
        }
      ]
    },
    {
      "cell_type": "code",
      "source": [
        "# Guardo el listado de alumnos\n",
        "alumnos.to_csv(root_path + 'datos/alumnos_desertores.csv')"
      ],
      "metadata": {
        "id": "YQkJ128GRU0z"
      },
      "execution_count": null,
      "outputs": []
    }
  ]
}