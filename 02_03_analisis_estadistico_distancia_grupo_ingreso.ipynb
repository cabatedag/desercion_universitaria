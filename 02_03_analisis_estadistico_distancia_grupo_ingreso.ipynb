{
  "nbformat": 4,
  "nbformat_minor": 0,
  "metadata": {
    "colab": {
      "provenance": []
    },
    "kernelspec": {
      "name": "python3",
      "display_name": "Python 3"
    },
    "language_info": {
      "name": "python"
    }
  },
  "cells": [
    {
      "cell_type": "markdown",
      "metadata": {
        "id": "E5W-65MskuXx"
      },
      "source": [
        "# **Este *ipynb* está enmarcado dentro de un trabajo que busca predecir qué alumnos del departamento de Sistemas la UTN FRBA desertarán.**\n",
        "\n",
        "Los datos disponibles fueron unificados en una sola tabla denominada **merged_df**.\n",
        "\n",
        "En este **ipynb** se realizará un análisis estadístico del previamente mencionado dataset."
      ]
    },
    {
      "cell_type": "markdown",
      "source": [
        "## **Fuente de referencia:**\n",
        "\n",
        "* https://github.com/sebajarem/Analisis_desercion_en_ingenieria/tree/master/desercion/diagnostics/00_datos_01\n",
        "\n",
        "* Romero, G., et al. Predictor de deserción universitaria\n",
        "\n",
        "---"
      ],
      "metadata": {
        "id": "mlxqqiu2xo7G"
      }
    },
    {
      "cell_type": "markdown",
      "metadata": {
        "id": "hWk9Vqs8l5jg"
      },
      "source": [
        "## **Importación de librerías**"
      ]
    },
    {
      "cell_type": "code",
      "source": [
        "## Importamos librerías.\n",
        "import pandas as pd\n",
        "import numpy as np\n",
        "import seaborn as sns\n",
        "import matplotlib.pyplot as plt"
      ],
      "metadata": {
        "id": "kKQnn_G_d-Yw"
      },
      "execution_count": null,
      "outputs": []
    },
    {
      "cell_type": "markdown",
      "source": [
        "## **Google Colaboratory o Local**\n",
        "El notebook podrá ser corrido tanto localmente como en Google Colaboratory.\n",
        "\n",
        "El usuario deberá modificar el root path de acuerdo a su conveniencia."
      ],
      "metadata": {
        "id": "3SbYS6Q7qn4-"
      }
    },
    {
      "cell_type": "code",
      "source": [
        "## Verificamos si estamos corriendo el noteboock en Google Colaboratory.\n",
        "var_google_colab = 'google.colab' in str(get_ipython())\n",
        "print(var_google_colab)\n",
        "\n",
        "## En el caso de estar en Google Colab, montamos nuestro Drive.\n",
        "if var_google_colab:\n",
        "  from google.colab import drive\n",
        "  drive.mount('/content/gdrive',force_remount=True)\n",
        "  ## Direccion root donde está el notebook.\n",
        "  root_path = \"/content/gdrive/MyDrive/Colab Notebooks/GIAR/\"\n",
        "\n",
        "## En el caso de no estar en Google Colab, estamos corriendo localmente el notebook.\n",
        "else:\n",
        "  root_path = \"\""
      ],
      "metadata": {
        "id": "-sMQ0Jxuo982"
      },
      "execution_count": null,
      "outputs": []
    },
    {
      "cell_type": "markdown",
      "source": [
        "## **Datasets**"
      ],
      "metadata": {
        "id": "mWlkuLcPWhO6"
      }
    },
    {
      "cell_type": "code",
      "source": [
        "## Importamos el dataset.\n",
        "baseline = pd.read_csv(root_path + 'datos/baseline_2009_completo.csv')"
      ],
      "metadata": {
        "id": "Dn5x7Otnx2qd"
      },
      "execution_count": null,
      "outputs": []
    },
    {
      "cell_type": "markdown",
      "source": [
        "## **ANÁLISIS DE LOS DATOS**"
      ],
      "metadata": {
        "id": "xEPOuqbIXGrU"
      }
    },
    {
      "cell_type": "code",
      "execution_count": null,
      "metadata": {
        "id": "KVYLGtjWaxzd"
      },
      "outputs": [],
      "source": [
        "## Imprimimos las dimensiones del dataset.\n",
        "print(f'Dimensiones del dataset: {baseline.shape}')"
      ]
    },
    {
      "cell_type": "code",
      "source": [
        "## Imprimimos los nombres de cada columna, el tipo de dato que contiene cada una de ellas y la cantidad de no nulos presentes.\n",
        "baseline.info()"
      ],
      "metadata": {
        "id": "uTSdy5--fAAT"
      },
      "execution_count": null,
      "outputs": []
    },
    {
      "cell_type": "code",
      "source": [
        "baseline.drop(columns='Sexo_M', inplace = True)"
      ],
      "metadata": {
        "id": "uhRY-CM75dj6"
      },
      "execution_count": null,
      "outputs": []
    },
    {
      "cell_type": "code",
      "source": [
        "baseline.rename(columns = {'Sexo_F':'Sexo'}, inplace = True)"
      ],
      "metadata": {
        "id": "Hm8k02sDCap6"
      },
      "execution_count": null,
      "outputs": []
    },
    {
      "cell_type": "code",
      "source": [
        "baseline['Sexo'].value_counts()"
      ],
      "metadata": {
        "id": "4OPvB87F7umZ"
      },
      "execution_count": null,
      "outputs": []
    },
    {
      "cell_type": "code",
      "source": [
        "baseline.drop(columns='Año', inplace = True)"
      ],
      "metadata": {
        "id": "h_z42zYNvGGu"
      },
      "execution_count": null,
      "outputs": []
    },
    {
      "cell_type": "code",
      "source": [
        "## Vemos la cantidad y % de NaN por columna.\n",
        "total = baseline.isnull().sum().sort_values(ascending=False)\n",
        "percent = round(baseline.isnull().sum()/baseline.isnull().count()*100,2).sort_values(ascending=False)\n",
        "missing_data = pd.concat([total, percent], axis=1, keys=['Total', 'Percent [%]'])\n",
        "missing_data"
      ],
      "metadata": {
        "id": "WFzEVC5Af7R_"
      },
      "execution_count": null,
      "outputs": []
    },
    {
      "cell_type": "code",
      "source": [
        "## Identificamos cuántos de los registros tienen las columnas 'EsTecnico' y las referidas a los grupos de cursada de materias integradoras con valores nulos.\n",
        "baseline[baseline['grupo_ingreso_nivel1'].isnull()]['EsTecnico'].isnull().value_counts()"
      ],
      "metadata": {
        "id": "eiXikGRSjrR-"
      },
      "execution_count": null,
      "outputs": []
    },
    {
      "cell_type": "code",
      "source": [
        "## Realizamos un gráfico de torta para mostrar la distribucion de los alumnos que desertan y los que no.\n",
        "proporcion = pd.DataFrame(baseline.deserto.value_counts(normalize=True))\n",
        "porcentaje = list(set(proporcion['deserto']))\n",
        "\n",
        "colors = sns.color_palette('pastel')[0:5]\n",
        "plt.pie(x = porcentaje, labels = ['No desertor','Desertor'], colors = colors, autopct = '%.2f%%')\n",
        "plt.show()"
      ],
      "metadata": {
        "id": "sWd8Lwum1I6k"
      },
      "execution_count": null,
      "outputs": []
    },
    {
      "cell_type": "code",
      "source": [
        "## Diferenciamos las variables numéricas de las categóricas.\n",
        "num_features = ('edad al ingreso',\n",
        "                'Distancia',\n",
        "                'Ciclo Lectivo de Cursada',\n",
        "                'Cantidad de veces recursada regular',\n",
        "                'Descripción de recursada regular_No Recurso', \n",
        "                'Descripción de recursada regular_Recurso 1 Vez', \n",
        "                'Descripción de recursada regular_Recurso 2 Veces', \n",
        "                'Descripción de recursada regular_Recurso 3 Veces', \n",
        "                'Descripción de recursada regular_Recurso 4 Veces', \n",
        "                'Descripción de recursada regular_Recurso 5 Veces', \n",
        "                'Descripción de recursada regular_Recurso n Veces (>5)', \n",
        "                'noAprobado',\n",
        "                'Aprobado',\n",
        "                'Promociono',\n",
        "                'Nota', \n",
        "                'Nota_max_prom',                 \n",
        "                'Indice_aprobacion',\n",
        "                'Turno_Mañana', \n",
        "                'Turno_Noche',\n",
        "                'Turno_Tarde', \n",
        "                'Tipo de aprobación_Cambio Curso',\n",
        "                'Tipo de aprobación_Firmo',\n",
        "                'Tipo de aprobación_Libre', \n",
        "                'Tipo de aprobación_No Firmo',\n",
        "                'Tipo de aprobación_Promociono',\n",
        "                'cantidad de años')\n",
        "\n",
        "cat_features = ('EsTecnico', 'deserto', 'Sexo', 'grupo_ingreso_nivel1')"
      ],
      "metadata": {
        "id": "2F13kMfXkbjo"
      },
      "execution_count": null,
      "outputs": []
    },
    {
      "cell_type": "code",
      "source": [
        "## Obtenemos algunas estadísticas descriptivas de los datos disponibles.\n",
        "baseline.loc[:, baseline.columns.isin(num_features)].describe().T"
      ],
      "metadata": {
        "id": "aVapRo97i2-j"
      },
      "execution_count": null,
      "outputs": []
    },
    {
      "cell_type": "code",
      "source": [
        "## Determinamos la cantidad de registros con 'edad al ingreso' menor a 17 años.\n",
        "baseline[baseline['edad al ingreso']<17]['edad al ingreso'].value_counts()"
      ],
      "metadata": {
        "id": "RsDKk-3p1ZYa"
      },
      "execution_count": null,
      "outputs": []
    },
    {
      "cell_type": "code",
      "source": [
        "## Vemos el porcentaje que reprecentan los registros con 'edad al ingreso' menor a 17 años respecto del total.\n",
        "baseline[baseline['edad al ingreso']<17]['edad al ingreso'].count() / baseline['edad al ingreso'].count() * 100"
      ],
      "metadata": {
        "id": "buVBNUbT1ZOo"
      },
      "execution_count": null,
      "outputs": []
    },
    {
      "cell_type": "code",
      "source": [
        "## Determinamos la cantidad de registros con 'distancia' respecto a la universidad mayor a 75 kilómetros.\n",
        "baseline[baseline['Distancia']>75]['Distancia'].count()"
      ],
      "metadata": {
        "id": "QqaxyeXf6Cxd"
      },
      "execution_count": null,
      "outputs": []
    },
    {
      "cell_type": "code",
      "source": [
        "## Vemos el porcentaje que reprecentan los registros con con 'distancia' respecto a la universidad mayor a 75 kilómetros respecto del total.\n",
        "baseline[baseline['Distancia']>75]['Distancia'].count() / baseline['Distancia'].count() * 100"
      ],
      "metadata": {
        "id": "c9dAV8U460_s"
      },
      "execution_count": null,
      "outputs": []
    },
    {
      "cell_type": "code",
      "source": [
        "## Hay un registro con cantidad de años negativa.\n",
        "baseline[baseline['cantidad de años']<0]"
      ],
      "metadata": {
        "id": "6PGbaxDHYFRN"
      },
      "execution_count": null,
      "outputs": []
    },
    {
      "cell_type": "code",
      "source": [
        "## Evidentemente, se trata de un error. Dado que este alumno cursó ya más de 10 materias, estimaremos que se encuentra en su 2do año y modificaremos el dato.\n",
        "baseline.loc[baseline[baseline['cantidad de años']<0].index,'cantidad de años'] = 2"
      ],
      "metadata": {
        "id": "VJ_2btudXx6s"
      },
      "execution_count": null,
      "outputs": []
    },
    {
      "cell_type": "code",
      "source": [
        "## Observamos la distribución de la variable 'Cantidad de veces recursada regular'.\n",
        "sns.boxplot(y=\"Cantidad de veces recursada regular\", data=baseline)"
      ],
      "metadata": {
        "id": "l5AH2BMPCUoP"
      },
      "execution_count": null,
      "outputs": []
    },
    {
      "cell_type": "code",
      "source": [
        "## Aquellos valores por encima de 50 los consideramos outliers.\n",
        "baseline[baseline['Cantidad de veces recursada regular']>30]['Codigo Alumno'].count()"
      ],
      "metadata": {
        "id": "keqNX08dCcfG"
      },
      "execution_count": null,
      "outputs": []
    },
    {
      "cell_type": "markdown",
      "source": [
        "---\n",
        "\n",
        "**Descartamos algunos registros**"
      ],
      "metadata": {
        "id": "I-pZIlueBGsJ"
      }
    },
    {
      "cell_type": "code",
      "source": [
        "baseline.shape"
      ],
      "metadata": {
        "id": "A8M3XlSeAkdz"
      },
      "execution_count": null,
      "outputs": []
    },
    {
      "cell_type": "code",
      "source": [
        "## Elimino los registros con nulos.\n",
        "\n",
        "## Al descartar los registros que en 'grupo_ingreso_nivel1' no tengan un valor asignado, estamos descartando necesariamente a quienes hayan \n",
        "## ingresado a la FRBA luego de haber comenzado sus estudios en otra institución.\n",
        "\n",
        "## Por ejemplo, un alumno que asistió a la UBA y allí completó y aprobó todas las asignaturas de 1er nivel, decide cambiar de casa de estudios \n",
        "## y continuar sus estudios en la UTN. En este caso, el alumno durante su primer año en la FRBA estaría cursando materias de segundo nivel, por ende,\n",
        "## no se le podría asignar un grupo_ingreso_nivel1 ya que no cursó la materia integradora de 1er nivel en esta institución.\n",
        "\n",
        "## Solo vamos a analizar a aquellos que hayan iniciado a cursada de la carrera en la FRBA y se tenga registro de ello.\n",
        "## Vale la pena mencionar que dichos alumnos representan la mayor parte de los registros disponibles.\n",
        "\n",
        "df = baseline.dropna(how = 'any')"
      ],
      "metadata": {
        "id": "llBaEuIT19Fv"
      },
      "execution_count": null,
      "outputs": []
    },
    {
      "cell_type": "code",
      "source": [
        "## Aquellos registros con valores por encima de 30 los consideramos outliers. Eliminaremos dichos registros.\n",
        "df[df['Cantidad de veces recursada regular']>30]['Codigo Alumno'].count()"
      ],
      "metadata": {
        "id": "15GdT9tYD_ej"
      },
      "execution_count": null,
      "outputs": []
    },
    {
      "cell_type": "code",
      "source": [
        "df.drop(df[df['Cantidad de veces recursada regular'] > 30].index, inplace=True)"
      ],
      "metadata": {
        "id": "ou9VneuXEJtx"
      },
      "execution_count": null,
      "outputs": []
    },
    {
      "cell_type": "code",
      "source": [
        "## Observamos la distribución de la variable 'Cantidad de veces recursada regular'.\n",
        "sns.boxplot(y=\"Cantidad de veces recursada regular\", data=df)"
      ],
      "metadata": {
        "id": "96fMxbIFEgap"
      },
      "execution_count": null,
      "outputs": []
    },
    {
      "cell_type": "code",
      "source": [
        "df[df['Distancia']>75]['Codigo Alumno'].count()"
      ],
      "metadata": {
        "id": "D2ERgyEKfpYZ"
      },
      "execution_count": null,
      "outputs": []
    },
    {
      "cell_type": "code",
      "source": [
        "## Aquellos registros con distancia mayor a 75 km consideramos se encuentran desactualizados. \n",
        "## Es habitual que alumnos originarios de ciudades no comprendidas por el AMBA se desplacen hacia la ciudad\n",
        "## durante la época de clases y habiten allí.\n",
        "## Consideramos que estos alumnos habitan en CABA durante el período de clases y no actualizaron su domicilio.\n",
        "\n",
        "df.loc[df['Distancia'] > 75, 'Distancia'] = 5.10"
      ],
      "metadata": {
        "id": "2601sr-63f4c"
      },
      "execution_count": null,
      "outputs": []
    },
    {
      "cell_type": "code",
      "source": [
        "df[df['Distancia']==5.10]['Codigo Alumno'].count()"
      ],
      "metadata": {
        "id": "EVdpROBtXMws"
      },
      "execution_count": null,
      "outputs": []
    },
    {
      "cell_type": "code",
      "source": [
        "df['Descripción de recursada regular_Recurso n Veces (>5)'].value_counts()"
      ],
      "metadata": {
        "id": "tupJL_oKG9IV"
      },
      "execution_count": null,
      "outputs": []
    },
    {
      "cell_type": "code",
      "source": [
        "## Eliminamos esta variable ya que actualmente no nos ofrece información.\n",
        "df.drop(columns=['Descripción de recursada regular_Recurso n Veces (>5)'], inplace = True)\n",
        "df.shape"
      ],
      "metadata": {
        "id": "VNlWX1adHJQI"
      },
      "execution_count": null,
      "outputs": []
    },
    {
      "cell_type": "code",
      "source": [
        "df['grupo_ingreso_nivel1'].value_counts()"
      ],
      "metadata": {
        "id": "JglsSZHMYqxJ"
      },
      "execution_count": null,
      "outputs": []
    },
    {
      "cell_type": "code",
      "source": [
        "## Descartaremos aquellos grupos que luego del preprosesamiento realizado hayan quedado con menos de 10 alumnos registrados.\n",
        "grupos_descartar = pd.DataFrame((df['grupo_ingreso_nivel1'].value_counts() < 10))\n",
        "grupos_descartar = grupos_descartar.loc[grupos_descartar['grupo_ingreso_nivel1']==True]\n",
        "grupos_descartar = list(grupos_descartar.index)\n",
        "grupos_descartar"
      ],
      "metadata": {
        "id": "EEq25ULcUtxF"
      },
      "execution_count": null,
      "outputs": []
    },
    {
      "cell_type": "code",
      "source": [
        "df['grupo_ingreso_nivel1'].replace(grupos_descartar, np.nan, inplace = True)\n",
        "df.dropna(how='any',inplace=True)"
      ],
      "metadata": {
        "id": "_sy6c39DVbDQ"
      },
      "execution_count": null,
      "outputs": []
    },
    {
      "cell_type": "code",
      "source": [
        "df['grupo_ingreso_nivel1'].value_counts()"
      ],
      "metadata": {
        "id": "oESPINwfaV-h"
      },
      "execution_count": null,
      "outputs": []
    },
    {
      "cell_type": "code",
      "source": [
        "df.shape"
      ],
      "metadata": {
        "id": "kGb73XDQ5SpJ"
      },
      "execution_count": null,
      "outputs": []
    },
    {
      "cell_type": "markdown",
      "source": [
        "---\n",
        "**Elaboramos gráficos para visualizar la distribución de algunas variables en función de la clase (desertor o no desertor)**"
      ],
      "metadata": {
        "id": "Z5DiRPwIBRp5"
      }
    },
    {
      "cell_type": "code",
      "source": [
        "## Realizamos un gráfico de torta para mostrar la distribucion de los alumnos que desertan y los que no.\n",
        "proporcion = pd.DataFrame(df.deserto.value_counts(normalize=True))\n",
        "porcentaje = list(set(proporcion['deserto']))\n",
        "\n",
        "colors = sns.color_palette('pastel')[0:5]\n",
        "plt.pie(x = porcentaje, labels = ['No desertor','Desertor'], colors = colors, autopct = '%.2f%%')\n",
        "plt.show()"
      ],
      "metadata": {
        "id": "507go4rQ2Zgx"
      },
      "execution_count": null,
      "outputs": []
    },
    {
      "cell_type": "code",
      "source": [
        "## Imprimimos la distribución de distancia a la que se encuentra el domicilio declarado del alumno en función de si son o no desertores.\n",
        "sns.histplot(data=df,x=df['Distancia'],bins=10,kde=True,color=colors,stat='count',hue='deserto')\n",
        "plt.xlabel(\"Distancia\")\n",
        "plt.title('Distribucion de Distancia',size =15)\n",
        "plt.show()"
      ],
      "metadata": {
        "id": "V0HkOO9z1uWo"
      },
      "execution_count": null,
      "outputs": []
    },
    {
      "cell_type": "code",
      "source": [
        "## Observamos la distribución individuald de la variable 'Cantidad de veces recursada regular' (DATAFRAME SIN NaNs)\n",
        "sns.boxplot(x=\"deserto\", y=\"Distancia\", data=df)"
      ],
      "metadata": {
        "id": "WKK74fQ7Bfoo"
      },
      "execution_count": null,
      "outputs": []
    },
    {
      "cell_type": "code",
      "source": [
        "## Calculamos la media de la distancia en función del outcome de la variable 'deserto'.\n",
        "df.groupby('deserto', as_index=False)['Distancia'].mean()"
      ],
      "metadata": {
        "id": "K5i4blN76IIS"
      },
      "execution_count": null,
      "outputs": []
    },
    {
      "cell_type": "code",
      "source": [
        "## Imprimimos la distribución de la edad de los alumnos al ingresar a la universidad en función de si son o no desertores.\n",
        "sns.histplot(data=df,x=df['edad al ingreso'],bins=20,kde=True,color=colors,stat='count',hue='deserto')\n",
        "plt.xlabel(\"edad al ingreso\")\n",
        "plt.title('Distribucion de Edad al Ingreso',size = 20)\n",
        "plt.show()"
      ],
      "metadata": {
        "id": "DaDtofVH4qm5"
      },
      "execution_count": null,
      "outputs": []
    },
    {
      "cell_type": "code",
      "source": [
        "## Observamos la distribución individuald de la variable 'edad al ingreso' (DATAFRAME SIN NaNs)\n",
        "sns.boxplot(x=\"deserto\", y=\"edad al ingreso\", data=df)"
      ],
      "metadata": {
        "id": "Gk3g-0vAFEB8"
      },
      "execution_count": null,
      "outputs": []
    },
    {
      "cell_type": "code",
      "source": [
        "## Calculamos la media de la edad al ingreso en función del outcome de la variable 'deserto'.\n",
        "df.groupby('deserto', as_index=False)['edad al ingreso'].mean()"
      ],
      "metadata": {
        "id": "-vVpWV2D6kK4"
      },
      "execution_count": null,
      "outputs": []
    },
    {
      "cell_type": "code",
      "source": [
        "## Observamos la distribución de la variable 'Cantidad de veces recursada regular' (DATAFRAME SIN NaNs)\n",
        "sns.boxplot(x=\"deserto\", y=\"Cantidad de veces recursada regular\", data=df)"
      ],
      "metadata": {
        "id": "FQ-uFsvr_TOW"
      },
      "execution_count": null,
      "outputs": []
    },
    {
      "cell_type": "code",
      "source": [
        "## Imprimimos la distribución de 'Cantidad de veces recursada regular' en función de si son o no desertores.\n",
        "sns.histplot(data=df,x=df['Cantidad de veces recursada regular'],bins=10,kde=True,color=colors,stat='count',hue='deserto')\n",
        "plt.xlabel(\"Cantidad de veces recursada regular\")\n",
        "plt.title('Distribucion de Cantidad de veces recursada regular',size = 15)\n",
        "plt.xlim(0,40)\n",
        "plt.show()"
      ],
      "metadata": {
        "id": "cv9wA1mL6rX8"
      },
      "execution_count": null,
      "outputs": []
    },
    {
      "cell_type": "code",
      "source": [
        "## Calculamos la media de Cantidad de veces recursada regular en función del outcome de la variable 'deserto'.\n",
        "df.groupby('deserto', as_index=False)['Cantidad de veces recursada regular'].mean()"
      ],
      "metadata": {
        "id": "cxJoolSZ7IL5"
      },
      "execution_count": null,
      "outputs": []
    },
    {
      "cell_type": "code",
      "source": [
        "## Observamos la distribución de la variable 'Descripción de recursada regular_No Recurso' (DATAFRAME SIN NaNs)\n",
        "sns.boxplot(x=\"deserto\", y=\"Descripción de recursada regular_No Recurso\", data=df)"
      ],
      "metadata": {
        "id": "whViCP6OILOI"
      },
      "execution_count": null,
      "outputs": []
    },
    {
      "cell_type": "code",
      "source": [
        "## Imprimimos la distribución de 'Descripción de recursada regular_No Recurso' en función de si son o no desertores.\n",
        "sns.histplot(data=df,x=df['Descripción de recursada regular_No Recurso'],bins=30,kde=True,color=colors,stat='count',hue='deserto')\n",
        "plt.xlabel(\"Descripción de recursada regular_No Recurso\")\n",
        "plt.title('Distribucion de Descripción de recursada regular_No Recurso',size = 15)\n",
        "plt.xlim(0,40)\n",
        "plt.show()"
      ],
      "metadata": {
        "id": "dqVIB7lSJHnZ"
      },
      "execution_count": null,
      "outputs": []
    },
    {
      "cell_type": "code",
      "source": [
        "## Calculamos la media de Descripción de recursada regular_No Recurso en función del outcome de la variable 'deserto'.\n",
        "df.groupby('deserto', as_index=False)['Descripción de recursada regular_No Recurso'].mean()"
      ],
      "metadata": {
        "id": "e2xchAbDIaLM"
      },
      "execution_count": null,
      "outputs": []
    },
    {
      "cell_type": "code",
      "source": [],
      "metadata": {
        "id": "vWtovfiJIiQ4"
      },
      "execution_count": null,
      "outputs": []
    },
    {
      "cell_type": "code",
      "source": [
        "## Imprimimos la distribución de 'Promociono' en función de si son o no desertores.\n",
        "sns.histplot(data=df,x=df['Promociono'],bins=10,kde=True,color=colors,stat='count',hue='deserto')\n",
        "plt.xlabel(\"Promociono\")\n",
        "plt.title('Distribucion de Promociono',size = 15)\n",
        "plt.show()"
      ],
      "metadata": {
        "id": "JtfRuwBG8HkA"
      },
      "execution_count": null,
      "outputs": []
    },
    {
      "cell_type": "code",
      "source": [
        "## Observamos la distribución individuald de la variable 'Promociono' (DATAFRAME SIN NaNs)\n",
        "sns.boxplot(x=\"deserto\", y=\"Promociono\", data=df)"
      ],
      "metadata": {
        "id": "KlrbkPfyFXt1"
      },
      "execution_count": null,
      "outputs": []
    },
    {
      "cell_type": "code",
      "source": [
        "## Calculamos la media de Promociono en función del outcome de la variable 'deserto'.\n",
        "df.groupby('deserto', as_index=False)['Promociono'].mean()"
      ],
      "metadata": {
        "id": "t4tWQia08il-"
      },
      "execution_count": null,
      "outputs": []
    },
    {
      "cell_type": "code",
      "source": [
        "## Imprimimos la distribución de 'Aprobado' en función de si son o no desertores.\n",
        "sns.histplot(data=df,x=df['Aprobado'],bins=10,kde=True,color=colors,stat='count',hue='deserto')\n",
        "plt.xlabel(\"Aprobado\")\n",
        "plt.title('Distribucion de Aprobado',size = 15)\n",
        "plt.show()"
      ],
      "metadata": {
        "id": "2HNt9Nfw8rQ0"
      },
      "execution_count": null,
      "outputs": []
    },
    {
      "cell_type": "code",
      "source": [
        "## Observamos la distribución individuald de la variable 'Aprobado' (DATAFRAME SIN NaNs)\n",
        "sns.boxplot(x=\"deserto\", y=\"Aprobado\", data=df)"
      ],
      "metadata": {
        "id": "zzIq2DiWFiVr"
      },
      "execution_count": null,
      "outputs": []
    },
    {
      "cell_type": "code",
      "source": [
        "## Calculamos la media de Aprobado en función del outcome de la variable 'deserto'.\n",
        "df.groupby('deserto', as_index=False)['Aprobado'].mean()"
      ],
      "metadata": {
        "id": "r5nfxKup890d"
      },
      "execution_count": null,
      "outputs": []
    },
    {
      "cell_type": "code",
      "source": [
        "## Imprimimos la distribución de 'noAprobado' en función de si son o no desertores.\n",
        "sns.histplot(data=df,x=df['noAprobado'],bins=10,kde=True,color=colors,stat='count',hue='deserto')\n",
        "plt.xlabel(\"noAprobado\")\n",
        "plt.title('Distribucion de noAprobado',size = 15)\n",
        "plt.show()"
      ],
      "metadata": {
        "id": "Xcx1T6Qz9GI2"
      },
      "execution_count": null,
      "outputs": []
    },
    {
      "cell_type": "code",
      "source": [
        "## Observamos la distribución individuald de la variable 'noAprobado' (DATAFRAME SIN NaNs)\n",
        "sns.boxplot(x=\"deserto\", y=\"noAprobado\", data=df)"
      ],
      "metadata": {
        "id": "qF1_UWt9Fs1L"
      },
      "execution_count": null,
      "outputs": []
    },
    {
      "cell_type": "code",
      "source": [
        "## Calculamos la media de noAprobado en función del outcome de la variable 'deserto'.\n",
        "df.groupby('deserto', as_index=False)['noAprobado'].mean()"
      ],
      "metadata": {
        "id": "O57Kqur29Mob"
      },
      "execution_count": null,
      "outputs": []
    },
    {
      "cell_type": "code",
      "source": [
        "## Imprimimos la distribución de 'Indice_aprobacion' en función de si son o no desertores.\n",
        "sns.histplot(data=df,x=df['Indice_aprobacion'],bins=10,kde=True,color=colors,stat='count',hue='deserto')\n",
        "plt.xlabel(\"Indice_aprobacion\")\n",
        "plt.title('Distribucion de Indice_aprobacion',size = 15)\n",
        "plt.show()"
      ],
      "metadata": {
        "id": "me7iW4Ro9d9F"
      },
      "execution_count": null,
      "outputs": []
    },
    {
      "cell_type": "code",
      "source": [
        "## Observamos la distribución individuald de la variable 'Indice_aprobacion' (DATAFRAME SIN NaNs)\n",
        "sns.boxplot(x=\"deserto\", y=\"Indice_aprobacion\", data=df)"
      ],
      "metadata": {
        "id": "FPR02yEJF1Hf"
      },
      "execution_count": null,
      "outputs": []
    },
    {
      "cell_type": "code",
      "source": [
        "## Calculamos la media de Indice_aprobacion en función del outcome de la variable 'deserto'.\n",
        "df.groupby('deserto', as_index=False)['Indice_aprobacion'].mean()"
      ],
      "metadata": {
        "id": "VgJdbOG79mUM"
      },
      "execution_count": null,
      "outputs": []
    },
    {
      "cell_type": "code",
      "source": [
        "## Imprimimos la distribución de 'cantidad de años' en función de si son o no desertores.\n",
        "sns.histplot(data=df,x=df['cantidad de años'],bins=6,kde=True,color=colors,stat='count',hue='deserto')\n",
        "plt.xlabel(\"cantidad de años\")\n",
        "plt.title('Distribucion de cantidad de años',size = 15)\n",
        "plt.show()"
      ],
      "metadata": {
        "id": "a2OL-ZB4HRyw"
      },
      "execution_count": null,
      "outputs": []
    },
    {
      "cell_type": "code",
      "source": [
        "## Observamos la distribución individuald de la variable 'cantidad de años' (DATAFRAME SIN NaNs)\n",
        "sns.boxplot(x=\"deserto\", y=\"cantidad de años\", data=df)"
      ],
      "metadata": {
        "id": "SdS9bb7kG7ls"
      },
      "execution_count": null,
      "outputs": []
    },
    {
      "cell_type": "code",
      "source": [
        "## Calculamos la media de cantidad de años en función del outcome de la variable 'deserto'.\n",
        "df.groupby('deserto', as_index=False)['cantidad de años'].mean()"
      ],
      "metadata": {
        "id": "7Gkrf3oxHblZ"
      },
      "execution_count": null,
      "outputs": []
    },
    {
      "cell_type": "code",
      "source": [
        "## Proporción de mujeres en el dataset.\n",
        "baseline['Sexo'].value_counts(normalize = True)"
      ],
      "metadata": {
        "id": "CJ7-163gcCt4"
      },
      "execution_count": null,
      "outputs": []
    },
    {
      "cell_type": "code",
      "source": [
        "## Proporción desertores entre las mujeres.\n",
        "baseline[baseline['Sexo'] == 1]['deserto'].value_counts(normalize = True)"
      ],
      "metadata": {
        "id": "GxfDbkrUcgdu"
      },
      "execution_count": null,
      "outputs": []
    },
    {
      "cell_type": "code",
      "source": [
        "## Proporción desertores entre los hombres.\n",
        "baseline[baseline['Sexo'] == 0]['deserto'].value_counts(normalize = True)"
      ],
      "metadata": {
        "id": "Wc3HA3RAc6_W"
      },
      "execution_count": null,
      "outputs": []
    },
    {
      "cell_type": "markdown",
      "source": [
        "---\n",
        "---\n",
        "---\n",
        "---\n",
        "---"
      ],
      "metadata": {
        "id": "xPtbsZGTB7g7"
      }
    },
    {
      "cell_type": "code",
      "source": [
        "## Creamos un dataset sin 'Código Alumno'.\n",
        "xy = df.loc[:, ~df.columns.isin(('Codigo Alumno',))].dropna(how='any')"
      ],
      "metadata": {
        "id": "f-BJ6OgAmLcV"
      },
      "execution_count": null,
      "outputs": []
    },
    {
      "cell_type": "code",
      "source": [
        "## Elaboramos e imprimimos la matriz de correlación lineal de Pearson entre las features.\n",
        "sns.set_style(\"white\")\n",
        "sns.set_context(\"talk\")\n",
        "sns.set_style(\"ticks\")\n",
        "plt.subplots(figsize=(11, 11))\n",
        "sns.heatmap(np.corrcoef(xy.T), xticklabels=xy.columns, yticklabels=xy.columns)\n",
        "plt.title('Matriz de correlación lineal de Pearson')\n",
        "plt.show()"
      ],
      "metadata": {
        "id": "UB2I1v0H4w7b"
      },
      "execution_count": null,
      "outputs": []
    },
    {
      "cell_type": "markdown",
      "source": [
        "##### **# Dataset Supervisado: Valores en función de la clase** ####\n",
        "\n",
        "Como es un dataset supervisado, podría ser interesante ver los valores separados por clase. Por lo tanto, con el objeto solamente de realizar un análisis exploratorio, el dataset se divide según la clase y se realizan los estadísticos nuevamente.\n"
      ],
      "metadata": {
        "id": "_1XzK3Aqqhfc"
      }
    },
    {
      "cell_type": "code",
      "source": [
        "## Dividimos el dataset.\n",
        "desertores = df[df['deserto']==1]\n",
        "no_desertores = df[df['deserto']==0]"
      ],
      "metadata": {
        "id": "a5UJ0Xfgm5K_"
      },
      "execution_count": null,
      "outputs": []
    },
    {
      "cell_type": "code",
      "source": [
        "## Obtenemos algunas estadísticas descriptivas de la clase desertores.\n",
        "desertores.loc[:, df.columns.isin(num_features)].describe().T"
      ],
      "metadata": {
        "id": "ILR76oOoA6oG"
      },
      "execution_count": null,
      "outputs": []
    },
    {
      "cell_type": "code",
      "source": [
        "## Obtenemos algunas estadísticas descriptivas de la clase NO desertores.\n",
        "no_desertores.loc[:, df.columns.isin(num_features)].describe().T"
      ],
      "metadata": {
        "id": "DTZlzJxsB7CK"
      },
      "execution_count": null,
      "outputs": []
    },
    {
      "cell_type": "markdown",
      "source": [
        "---"
      ],
      "metadata": {
        "id": "ePJzu4ZTC0co"
      }
    },
    {
      "cell_type": "markdown",
      "source": [
        "---\n",
        "\n",
        "## **Observaciones extraídas de la abajo mencionada fuente:**\n",
        "\n",
        "* El dataset se encuentra balanceado. **43.88%** de los alumnos del dataset desertó mientras que el **56.12%** sigue en carrera.\n",
        "\n",
        "* La variable **EsTecnico** tiene un **13.32%** de datos nulos. Dependiendo el método que se use podrá tolerarse o no. En los casos que no se pueda tolerar, se tendrá que imputar algún valor o se podrá optar por descartar la variable.\n",
        "\n",
        "* El valor mínimo de la variable **edad_al_ingreso** es 11. Un valor muy bajo y puede tratarse de un error. Se analizaron la cantidad de casos que existen en que esta variable tiene un valor menor a 17, que es la mínima edad que podría entrar un estudiante a la universidad respetando todos los ciclos lectivos sin adelantar ninguno de las etapas de estudio anteriores, y dicho valor es de 4 observaciones. Las cuales representan una cantidad insignificante respecto del total de observaciones 4558 (0.08%). Por lo tanto al no poder verificarlo por el momento se decide dejarlo.\n",
        "\n",
        "\n",
        "### **FUENTE:** \n",
        "* https://github.com/sebajarem/Analisis_desercion_en_ingenieria/tree/master/desercion/diagnostics/00_datos_01  (**GIAR 2021** - Romero, G., et al. Predictor de deserción universitaria)\n",
        "---"
      ],
      "metadata": {
        "id": "gltoYxDFy4M1"
      }
    },
    {
      "cell_type": "markdown",
      "source": [
        "---\n",
        "## **Observaciones a partir del presente trabajo:**\n",
        "\n",
        "\n",
        "* La variable **Distancia** tiene un **1.08%** de datos nulos.\n",
        "\n",
        "* El valor máximo de la variable **Distancia** es **2369.08** km. Un valor muy alto. Son 240 los registros que **exceden los 75 km**. Estos representan un **5.32%** respecto del total de observaciones (4558).\n",
        "\n",
        "* Dado que se cree poco probable que un alumno viva a **más de 75 km** lineales de la universidad y se desplace a ella cotidianamente (durante el período analizado no habían cursadas virtuales), se considera que esos datos **no** están actualizados. Es habitual que alumnos originarios de ciudades no comprendidas por el AMBA se desplacen hacia la capital del país durante la época de clases y habiten allí. Consideramos que estos alumnos (con **Distancia > 75**) habitaban en CABA durante el período de clases, pero no actualizaron su domicilio. Se les asignará, por ende, 5.1 km como distancia a la universidad.\n",
        "\n",
        "* Hay un registro con **cantidad de años** negativa. Evidentemente, se trata de un error. Dado que ese alumno cursó ya más de 10 materias, estimaremos que se encuentra en su 2do año y modificaremos el dato.\n",
        "\n",
        "* Luego de remover los registros que tenían valores nulos, podemos afirmar que el dataset sigue balanceado. **41.14%** de los alumnos del dataset desertó, mientras que el **58.86%** sigue en carrera.\n",
        "\n",
        "\n",
        "* El porcentaje de desertores entre los alumnos de **sexo masculino** es del **44.58%**, mientras que entre los de **sexo femenino** dicho porcentaje desciende al **39.38%**.\n",
        "\n",
        "---"
      ],
      "metadata": {
        "id": "88AWbxnY5d1l"
      }
    },
    {
      "cell_type": "markdown",
      "source": [
        "---"
      ],
      "metadata": {
        "id": "6l6TEKviDS34"
      }
    },
    {
      "cell_type": "code",
      "source": [
        "## Guardamos el dataframe en un csv.\n",
        "df.to_csv(root_path + 'datos/base_datos_estudiantes_completo.csv',index=False)"
      ],
      "metadata": {
        "id": "lLpLSzYSfi4H"
      },
      "execution_count": null,
      "outputs": []
    },
    {
      "cell_type": "code",
      "source": [],
      "metadata": {
        "id": "-TrBBUJahl7W"
      },
      "execution_count": null,
      "outputs": []
    }
  ]
}